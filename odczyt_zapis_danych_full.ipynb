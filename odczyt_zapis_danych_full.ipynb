{
 "cells":[
  {
   "cell_type":"code",
   "source":[
    "import numpy as np\n",
    "import pandas as pd\n",
    "np.random.seed(12345)\n",
    "import matplotlib.pyplot as plt\n",
    "%matplotlib inline\n",
    "plt.rc('figure',figsize=(10,6))\n",
    "np.set_printoptions(precision=4,suppress=True)"
   ],
   "execution_count":1,
   "outputs":[
    
   ],
   "metadata":{
    "datalore":{
     "node_id":"0cxlo1bZums0xpLjikHL8y",
     "type":"CODE",
     "hide_input_from_viewers":true,
     "hide_output_from_viewers":true
    }
   }
  },
  {
   "cell_type":"code",
   "source":[
    "!cat przyklady\/ex1.csv"
   ],
   "execution_count":6,
   "outputs":[
    {
     "name":"stdout",
     "text":[
      "a,b,c,d,message\r\n",
      "1,2,3,4,hello\r\n",
      "5,6,7,8,world\r\n",
      "9,10,11,12,foo"
     ],
     "output_type":"stream"
    }
   ],
   "metadata":{
    "datalore":{
     "node_id":"kV6hLZlEkrrL2j6sQVVWNB",
     "type":"CODE",
     "hide_input_from_viewers":true,
     "hide_output_from_viewers":true
    }
   }
  },
  {
   "cell_type":"code",
   "source":[
    "#odczyt i zapis pliku w formacie tekstowym\n",
    "df = pd.read_csv('przyklady\/ex1.csv')\n",
    "df"
   ],
   "execution_count":2,
   "outputs":[
    {
     "data":{
      "text\/html":[
       "<div>\n",
       "<style scoped>\n",
       "    .dataframe tbody tr th:only-of-type {\n",
       "        vertical-align: middle;\n",
       "    }\n",
       "\n",
       "    .dataframe tbody tr th {\n",
       "        vertical-align: top;\n",
       "    }\n",
       "\n",
       "    .dataframe thead th {\n",
       "        text-align: right;\n",
       "    }\n",
       "<\/style>\n",
       "<table border=\"1\" class=\"dataframe\">\n",
       "  <thead>\n",
       "    <tr style=\"text-align: right;\">\n",
       "      <th><\/th>\n",
       "      <th>a<\/th>\n",
       "      <th>b<\/th>\n",
       "      <th>c<\/th>\n",
       "      <th>d<\/th>\n",
       "      <th>message<\/th>\n",
       "    <\/tr>\n",
       "  <\/thead>\n",
       "  <tbody>\n",
       "    <tr>\n",
       "      <th>0<\/th>\n",
       "      <td>1<\/td>\n",
       "      <td>2<\/td>\n",
       "      <td>3<\/td>\n",
       "      <td>4<\/td>\n",
       "      <td>hello<\/td>\n",
       "    <\/tr>\n",
       "    <tr>\n",
       "      <th>1<\/th>\n",
       "      <td>5<\/td>\n",
       "      <td>6<\/td>\n",
       "      <td>7<\/td>\n",
       "      <td>8<\/td>\n",
       "      <td>world<\/td>\n",
       "    <\/tr>\n",
       "    <tr>\n",
       "      <th>2<\/th>\n",
       "      <td>9<\/td>\n",
       "      <td>10<\/td>\n",
       "      <td>11<\/td>\n",
       "      <td>12<\/td>\n",
       "      <td>foo<\/td>\n",
       "    <\/tr>\n",
       "  <\/tbody>\n",
       "<\/table>\n",
       "<\/div>"
      ]
     },
     "metadata":{
      
     },
     "output_type":"display_data"
    }
   ],
   "metadata":{
    "datalore":{
     "node_id":"p5vmbLM5EXHLjNtfGPvT97",
     "type":"CODE",
     "hide_input_from_viewers":true,
     "hide_output_from_viewers":true
    }
   }
  },
  {
   "cell_type":"code",
   "source":[
    "pd.read_table('przyklady\/ex1.csv',sep=',')"
   ],
   "execution_count":3,
   "outputs":[
    {
     "data":{
      "text\/html":[
       "<div>\n",
       "<style scoped>\n",
       "    .dataframe tbody tr th:only-of-type {\n",
       "        vertical-align: middle;\n",
       "    }\n",
       "\n",
       "    .dataframe tbody tr th {\n",
       "        vertical-align: top;\n",
       "    }\n",
       "\n",
       "    .dataframe thead th {\n",
       "        text-align: right;\n",
       "    }\n",
       "<\/style>\n",
       "<table border=\"1\" class=\"dataframe\">\n",
       "  <thead>\n",
       "    <tr style=\"text-align: right;\">\n",
       "      <th><\/th>\n",
       "      <th>a<\/th>\n",
       "      <th>b<\/th>\n",
       "      <th>c<\/th>\n",
       "      <th>d<\/th>\n",
       "      <th>message<\/th>\n",
       "    <\/tr>\n",
       "  <\/thead>\n",
       "  <tbody>\n",
       "    <tr>\n",
       "      <th>0<\/th>\n",
       "      <td>1<\/td>\n",
       "      <td>2<\/td>\n",
       "      <td>3<\/td>\n",
       "      <td>4<\/td>\n",
       "      <td>hello<\/td>\n",
       "    <\/tr>\n",
       "    <tr>\n",
       "      <th>1<\/th>\n",
       "      <td>5<\/td>\n",
       "      <td>6<\/td>\n",
       "      <td>7<\/td>\n",
       "      <td>8<\/td>\n",
       "      <td>world<\/td>\n",
       "    <\/tr>\n",
       "    <tr>\n",
       "      <th>2<\/th>\n",
       "      <td>9<\/td>\n",
       "      <td>10<\/td>\n",
       "      <td>11<\/td>\n",
       "      <td>12<\/td>\n",
       "      <td>foo<\/td>\n",
       "    <\/tr>\n",
       "  <\/tbody>\n",
       "<\/table>\n",
       "<\/div>"
      ]
     },
     "metadata":{
      
     },
     "output_type":"display_data"
    }
   ],
   "metadata":{
    "datalore":{
     "node_id":"VLD41CtTH14juw7R2uPKVa",
     "type":"CODE",
     "hide_input_from_viewers":true,
     "hide_output_from_viewers":true
    }
   }
  },
  {
   "cell_type":"code",
   "source":[
    "!cat przyklady\/ex2.csv"
   ],
   "execution_count":4,
   "outputs":[
    {
     "name":"stdout",
     "text":[
      "1,2,3,4,hello\r\n",
      "5,6,7,8,world\r\n",
      "9,10,11,12,foo"
     ],
     "output_type":"stream"
    }
   ],
   "metadata":{
    "datalore":{
     "node_id":"ZC8z673utj7UrjF7AkSNbd",
     "type":"CODE",
     "hide_input_from_viewers":true,
     "hide_output_from_viewers":true
    }
   }
  },
  {
   "cell_type":"code",
   "source":[
    "pd.read_csv('przyklady\/ex2.csv',header=None)"
   ],
   "execution_count":5,
   "outputs":[
    {
     "data":{
      "text\/html":[
       "<div>\n",
       "<style scoped>\n",
       "    .dataframe tbody tr th:only-of-type {\n",
       "        vertical-align: middle;\n",
       "    }\n",
       "\n",
       "    .dataframe tbody tr th {\n",
       "        vertical-align: top;\n",
       "    }\n",
       "\n",
       "    .dataframe thead th {\n",
       "        text-align: right;\n",
       "    }\n",
       "<\/style>\n",
       "<table border=\"1\" class=\"dataframe\">\n",
       "  <thead>\n",
       "    <tr style=\"text-align: right;\">\n",
       "      <th><\/th>\n",
       "      <th>0<\/th>\n",
       "      <th>1<\/th>\n",
       "      <th>2<\/th>\n",
       "      <th>3<\/th>\n",
       "      <th>4<\/th>\n",
       "    <\/tr>\n",
       "  <\/thead>\n",
       "  <tbody>\n",
       "    <tr>\n",
       "      <th>0<\/th>\n",
       "      <td>1<\/td>\n",
       "      <td>2<\/td>\n",
       "      <td>3<\/td>\n",
       "      <td>4<\/td>\n",
       "      <td>hello<\/td>\n",
       "    <\/tr>\n",
       "    <tr>\n",
       "      <th>1<\/th>\n",
       "      <td>5<\/td>\n",
       "      <td>6<\/td>\n",
       "      <td>7<\/td>\n",
       "      <td>8<\/td>\n",
       "      <td>world<\/td>\n",
       "    <\/tr>\n",
       "    <tr>\n",
       "      <th>2<\/th>\n",
       "      <td>9<\/td>\n",
       "      <td>10<\/td>\n",
       "      <td>11<\/td>\n",
       "      <td>12<\/td>\n",
       "      <td>foo<\/td>\n",
       "    <\/tr>\n",
       "  <\/tbody>\n",
       "<\/table>\n",
       "<\/div>"
      ]
     },
     "metadata":{
      
     },
     "output_type":"display_data"
    }
   ],
   "metadata":{
    "datalore":{
     "node_id":"VrC34Bo2RqjazmRMA63JW1",
     "type":"CODE",
     "hide_input_from_viewers":true,
     "hide_output_from_viewers":true
    }
   }
  },
  {
   "cell_type":"code",
   "source":[
    "pd.read_csv('przyklady\/ex2.csv',names=['a','b','c','d','message'])"
   ],
   "execution_count":7,
   "outputs":[
    {
     "data":{
      "text\/html":[
       "<div>\n",
       "<style scoped>\n",
       "    .dataframe tbody tr th:only-of-type {\n",
       "        vertical-align: middle;\n",
       "    }\n",
       "\n",
       "    .dataframe tbody tr th {\n",
       "        vertical-align: top;\n",
       "    }\n",
       "\n",
       "    .dataframe thead th {\n",
       "        text-align: right;\n",
       "    }\n",
       "<\/style>\n",
       "<table border=\"1\" class=\"dataframe\">\n",
       "  <thead>\n",
       "    <tr style=\"text-align: right;\">\n",
       "      <th><\/th>\n",
       "      <th>a<\/th>\n",
       "      <th>b<\/th>\n",
       "      <th>c<\/th>\n",
       "      <th>d<\/th>\n",
       "      <th>message<\/th>\n",
       "    <\/tr>\n",
       "  <\/thead>\n",
       "  <tbody>\n",
       "    <tr>\n",
       "      <th>0<\/th>\n",
       "      <td>1<\/td>\n",
       "      <td>2<\/td>\n",
       "      <td>3<\/td>\n",
       "      <td>4<\/td>\n",
       "      <td>hello<\/td>\n",
       "    <\/tr>\n",
       "    <tr>\n",
       "      <th>1<\/th>\n",
       "      <td>5<\/td>\n",
       "      <td>6<\/td>\n",
       "      <td>7<\/td>\n",
       "      <td>8<\/td>\n",
       "      <td>world<\/td>\n",
       "    <\/tr>\n",
       "    <tr>\n",
       "      <th>2<\/th>\n",
       "      <td>9<\/td>\n",
       "      <td>10<\/td>\n",
       "      <td>11<\/td>\n",
       "      <td>12<\/td>\n",
       "      <td>foo<\/td>\n",
       "    <\/tr>\n",
       "  <\/tbody>\n",
       "<\/table>\n",
       "<\/div>"
      ]
     },
     "metadata":{
      
     },
     "output_type":"display_data"
    }
   ],
   "metadata":{
    "datalore":{
     "node_id":"KbeyoQOkeW1CRcvV2hskYo",
     "type":"CODE",
     "hide_input_from_viewers":true,
     "hide_output_from_viewers":true
    }
   }
  },
  {
   "cell_type":"code",
   "source":[
    "names=['a','b','c','d','message']\n",
    "pd.read_csv('przyklady\/ex2.csv',names=names, index_col='message')"
   ],
   "execution_count":8,
   "outputs":[
    {
     "data":{
      "text\/html":[
       "<div>\n",
       "<style scoped>\n",
       "    .dataframe tbody tr th:only-of-type {\n",
       "        vertical-align: middle;\n",
       "    }\n",
       "\n",
       "    .dataframe tbody tr th {\n",
       "        vertical-align: top;\n",
       "    }\n",
       "\n",
       "    .dataframe thead th {\n",
       "        text-align: right;\n",
       "    }\n",
       "<\/style>\n",
       "<table border=\"1\" class=\"dataframe\">\n",
       "  <thead>\n",
       "    <tr style=\"text-align: right;\">\n",
       "      <th><\/th>\n",
       "      <th>a<\/th>\n",
       "      <th>b<\/th>\n",
       "      <th>c<\/th>\n",
       "      <th>d<\/th>\n",
       "    <\/tr>\n",
       "    <tr>\n",
       "      <th>message<\/th>\n",
       "      <th><\/th>\n",
       "      <th><\/th>\n",
       "      <th><\/th>\n",
       "      <th><\/th>\n",
       "    <\/tr>\n",
       "  <\/thead>\n",
       "  <tbody>\n",
       "    <tr>\n",
       "      <th>hello<\/th>\n",
       "      <td>1<\/td>\n",
       "      <td>2<\/td>\n",
       "      <td>3<\/td>\n",
       "      <td>4<\/td>\n",
       "    <\/tr>\n",
       "    <tr>\n",
       "      <th>world<\/th>\n",
       "      <td>5<\/td>\n",
       "      <td>6<\/td>\n",
       "      <td>7<\/td>\n",
       "      <td>8<\/td>\n",
       "    <\/tr>\n",
       "    <tr>\n",
       "      <th>foo<\/th>\n",
       "      <td>9<\/td>\n",
       "      <td>10<\/td>\n",
       "      <td>11<\/td>\n",
       "      <td>12<\/td>\n",
       "    <\/tr>\n",
       "  <\/tbody>\n",
       "<\/table>\n",
       "<\/div>"
      ]
     },
     "metadata":{
      
     },
     "output_type":"display_data"
    }
   ],
   "metadata":{
    "datalore":{
     "node_id":"l0o8C3tTkDY61gSkZc6K0q",
     "type":"CODE",
     "hide_input_from_viewers":true,
     "hide_output_from_viewers":true
    }
   }
  },
  {
   "cell_type":"code",
   "source":[
    "!cat przyklady\/csv_mindex.csv"
   ],
   "execution_count":9,
   "outputs":[
    {
     "name":"stdout",
     "text":[
      "key1,key2,value1,value2\r\n",
      "one,a,1,2\r\n",
      "one,b,3,4\r\n",
      "one,c,5,6\r\n",
      "one,d,7,8\r\n",
      "two,a,9,10\r\n",
      "two,b,11,12\r\n",
      "two,c,13,14\r\n",
      "two,d,15,16\r\n"
     ],
     "output_type":"stream"
    }
   ],
   "metadata":{
    "datalore":{
     "node_id":"umVTMHhXff1flEhuM8eB8u",
     "type":"CODE",
     "hide_input_from_viewers":true,
     "hide_output_from_viewers":true
    }
   }
  },
  {
   "cell_type":"code",
   "source":[
    "parsed = pd.read_csv('przyklady\/csv_mindex.csv',index_col=['key1','key2'])\n",
    "parsed"
   ],
   "execution_count":13,
   "outputs":[
    {
     "data":{
      "text\/html":[
       "<div>\n",
       "<style scoped>\n",
       "    .dataframe tbody tr th:only-of-type {\n",
       "        vertical-align: middle;\n",
       "    }\n",
       "\n",
       "    .dataframe tbody tr th {\n",
       "        vertical-align: top;\n",
       "    }\n",
       "\n",
       "    .dataframe thead th {\n",
       "        text-align: right;\n",
       "    }\n",
       "<\/style>\n",
       "<table border=\"1\" class=\"dataframe\">\n",
       "  <thead>\n",
       "    <tr style=\"text-align: right;\">\n",
       "      <th><\/th>\n",
       "      <th><\/th>\n",
       "      <th>value1<\/th>\n",
       "      <th>value2<\/th>\n",
       "    <\/tr>\n",
       "    <tr>\n",
       "      <th>key1<\/th>\n",
       "      <th>key2<\/th>\n",
       "      <th><\/th>\n",
       "      <th><\/th>\n",
       "    <\/tr>\n",
       "  <\/thead>\n",
       "  <tbody>\n",
       "    <tr>\n",
       "      <th rowspan=\"4\" valign=\"top\">one<\/th>\n",
       "      <th>a<\/th>\n",
       "      <td>1<\/td>\n",
       "      <td>2<\/td>\n",
       "    <\/tr>\n",
       "    <tr>\n",
       "      <th>b<\/th>\n",
       "      <td>3<\/td>\n",
       "      <td>4<\/td>\n",
       "    <\/tr>\n",
       "    <tr>\n",
       "      <th>c<\/th>\n",
       "      <td>5<\/td>\n",
       "      <td>6<\/td>\n",
       "    <\/tr>\n",
       "    <tr>\n",
       "      <th>d<\/th>\n",
       "      <td>7<\/td>\n",
       "      <td>8<\/td>\n",
       "    <\/tr>\n",
       "    <tr>\n",
       "      <th rowspan=\"4\" valign=\"top\">two<\/th>\n",
       "      <th>a<\/th>\n",
       "      <td>9<\/td>\n",
       "      <td>10<\/td>\n",
       "    <\/tr>\n",
       "    <tr>\n",
       "      <th>b<\/th>\n",
       "      <td>11<\/td>\n",
       "      <td>12<\/td>\n",
       "    <\/tr>\n",
       "    <tr>\n",
       "      <th>c<\/th>\n",
       "      <td>13<\/td>\n",
       "      <td>14<\/td>\n",
       "    <\/tr>\n",
       "    <tr>\n",
       "      <th>d<\/th>\n",
       "      <td>15<\/td>\n",
       "      <td>16<\/td>\n",
       "    <\/tr>\n",
       "  <\/tbody>\n",
       "<\/table>\n",
       "<\/div>"
      ]
     },
     "metadata":{
      
     },
     "output_type":"display_data"
    }
   ],
   "metadata":{
    "datalore":{
     "node_id":"LZZkT6RoGr9Qrtj2lPB6t8",
     "type":"CODE",
     "hide_input_from_viewers":true,
     "hide_output_from_viewers":true
    }
   }
  },
  {
   "cell_type":"code",
   "source":[
    "result = pd.read_table('przyklady\/csv_mindex.csv',sep=',')\n",
    "result"
   ],
   "execution_count":18,
   "outputs":[
    {
     "data":{
      "text\/html":[
       "<div>\n",
       "<style scoped>\n",
       "    .dataframe tbody tr th:only-of-type {\n",
       "        vertical-align: middle;\n",
       "    }\n",
       "\n",
       "    .dataframe tbody tr th {\n",
       "        vertical-align: top;\n",
       "    }\n",
       "\n",
       "    .dataframe thead th {\n",
       "        text-align: right;\n",
       "    }\n",
       "<\/style>\n",
       "<table border=\"1\" class=\"dataframe\">\n",
       "  <thead>\n",
       "    <tr style=\"text-align: right;\">\n",
       "      <th><\/th>\n",
       "      <th>key1<\/th>\n",
       "      <th>key2<\/th>\n",
       "      <th>value1<\/th>\n",
       "      <th>value2<\/th>\n",
       "    <\/tr>\n",
       "  <\/thead>\n",
       "  <tbody>\n",
       "    <tr>\n",
       "      <th>0<\/th>\n",
       "      <td>one<\/td>\n",
       "      <td>a<\/td>\n",
       "      <td>1<\/td>\n",
       "      <td>2<\/td>\n",
       "    <\/tr>\n",
       "    <tr>\n",
       "      <th>1<\/th>\n",
       "      <td>one<\/td>\n",
       "      <td>b<\/td>\n",
       "      <td>3<\/td>\n",
       "      <td>4<\/td>\n",
       "    <\/tr>\n",
       "    <tr>\n",
       "      <th>2<\/th>\n",
       "      <td>one<\/td>\n",
       "      <td>c<\/td>\n",
       "      <td>5<\/td>\n",
       "      <td>6<\/td>\n",
       "    <\/tr>\n",
       "    <tr>\n",
       "      <th>3<\/th>\n",
       "      <td>one<\/td>\n",
       "      <td>d<\/td>\n",
       "      <td>7<\/td>\n",
       "      <td>8<\/td>\n",
       "    <\/tr>\n",
       "    <tr>\n",
       "      <th>4<\/th>\n",
       "      <td>two<\/td>\n",
       "      <td>a<\/td>\n",
       "      <td>9<\/td>\n",
       "      <td>10<\/td>\n",
       "    <\/tr>\n",
       "    <tr>\n",
       "      <th>5<\/th>\n",
       "      <td>two<\/td>\n",
       "      <td>b<\/td>\n",
       "      <td>11<\/td>\n",
       "      <td>12<\/td>\n",
       "    <\/tr>\n",
       "    <tr>\n",
       "      <th>6<\/th>\n",
       "      <td>two<\/td>\n",
       "      <td>c<\/td>\n",
       "      <td>13<\/td>\n",
       "      <td>14<\/td>\n",
       "    <\/tr>\n",
       "    <tr>\n",
       "      <th>7<\/th>\n",
       "      <td>two<\/td>\n",
       "      <td>d<\/td>\n",
       "      <td>15<\/td>\n",
       "      <td>16<\/td>\n",
       "    <\/tr>\n",
       "  <\/tbody>\n",
       "<\/table>\n",
       "<\/div>"
      ]
     },
     "metadata":{
      
     },
     "output_type":"display_data"
    }
   ],
   "metadata":{
    "datalore":{
     "node_id":"rHlH8k6q7v4LlD5UzW4HTZ",
     "type":"CODE",
     "hide_input_from_viewers":true,
     "hide_output_from_viewers":true
    }
   }
  },
  {
   "cell_type":"code",
   "source":[
    "!cat przyklady\/ex4.csv"
   ],
   "execution_count":19,
   "outputs":[
    {
     "name":"stdout",
     "text":[
      "# Cześć!\r\n",
      "a,b,c,d,message\r\n",
      "# Chciałem tylko trochę utrudnić Twoją pracę.\r\n",
      "# Kto w ogóle wczytuje pliki CSV za pomocą komputera?\r\n",
      "1,2,3,4,hello\r\n",
      "5,6,7,8,world\r\n",
      "9,10,11,12,foo"
     ],
     "output_type":"stream"
    }
   ],
   "metadata":{
    "datalore":{
     "node_id":"S0TLCSEPXC7gF4LMAzjCNT",
     "type":"CODE",
     "hide_input_from_viewers":true,
     "hide_output_from_viewers":true
    }
   }
  },
  {
   "cell_type":"code",
   "source":[
    "pd.read_csv('przyklady\/ex4.csv', skiprows=[0,2,3])\n",
    "# pd.read_csv('przyklady\/ex4.csv')"
   ],
   "execution_count":22,
   "outputs":[
    {
     "data":{
      "text\/html":[
       "<div>\n",
       "<style scoped>\n",
       "    .dataframe tbody tr th:only-of-type {\n",
       "        vertical-align: middle;\n",
       "    }\n",
       "\n",
       "    .dataframe tbody tr th {\n",
       "        vertical-align: top;\n",
       "    }\n",
       "\n",
       "    .dataframe thead th {\n",
       "        text-align: right;\n",
       "    }\n",
       "<\/style>\n",
       "<table border=\"1\" class=\"dataframe\">\n",
       "  <thead>\n",
       "    <tr style=\"text-align: right;\">\n",
       "      <th><\/th>\n",
       "      <th>a<\/th>\n",
       "      <th>b<\/th>\n",
       "      <th>c<\/th>\n",
       "      <th>d<\/th>\n",
       "      <th>message<\/th>\n",
       "    <\/tr>\n",
       "  <\/thead>\n",
       "  <tbody>\n",
       "    <tr>\n",
       "      <th>0<\/th>\n",
       "      <td>1<\/td>\n",
       "      <td>2<\/td>\n",
       "      <td>3<\/td>\n",
       "      <td>4<\/td>\n",
       "      <td>hello<\/td>\n",
       "    <\/tr>\n",
       "    <tr>\n",
       "      <th>1<\/th>\n",
       "      <td>5<\/td>\n",
       "      <td>6<\/td>\n",
       "      <td>7<\/td>\n",
       "      <td>8<\/td>\n",
       "      <td>world<\/td>\n",
       "    <\/tr>\n",
       "    <tr>\n",
       "      <th>2<\/th>\n",
       "      <td>9<\/td>\n",
       "      <td>10<\/td>\n",
       "      <td>11<\/td>\n",
       "      <td>12<\/td>\n",
       "      <td>foo<\/td>\n",
       "    <\/tr>\n",
       "  <\/tbody>\n",
       "<\/table>\n",
       "<\/div>"
      ]
     },
     "metadata":{
      
     },
     "output_type":"display_data"
    }
   ],
   "metadata":{
    "datalore":{
     "node_id":"rbtO1UfJmn2QJ6yUS2Ld5r",
     "type":"CODE",
     "hide_input_from_viewers":true,
     "hide_output_from_viewers":true
    }
   }
  },
  {
   "cell_type":"code",
   "source":[
    "!cat przyklady\/ex5.csv"
   ],
   "execution_count":23,
   "outputs":[
    {
     "name":"stdout",
     "text":[
      "something,a,b,c,d,message\r\n",
      "one,1,2,3,4,NA\r\n",
      "two,5,6,,8,world\r\n",
      "three,9,10,11,12,foo"
     ],
     "output_type":"stream"
    }
   ],
   "metadata":{
    "datalore":{
     "node_id":"SSbHsl6xOIDyjpiwCpQIym",
     "type":"CODE",
     "hide_input_from_viewers":true,
     "hide_output_from_viewers":true
    }
   }
  },
  {
   "cell_type":"code",
   "source":[
    "result = pd.read_csv('przyklady\/ex5.csv')\n",
    "result"
   ],
   "execution_count":24,
   "outputs":[
    {
     "data":{
      "text\/html":[
       "<div>\n",
       "<style scoped>\n",
       "    .dataframe tbody tr th:only-of-type {\n",
       "        vertical-align: middle;\n",
       "    }\n",
       "\n",
       "    .dataframe tbody tr th {\n",
       "        vertical-align: top;\n",
       "    }\n",
       "\n",
       "    .dataframe thead th {\n",
       "        text-align: right;\n",
       "    }\n",
       "<\/style>\n",
       "<table border=\"1\" class=\"dataframe\">\n",
       "  <thead>\n",
       "    <tr style=\"text-align: right;\">\n",
       "      <th><\/th>\n",
       "      <th>something<\/th>\n",
       "      <th>a<\/th>\n",
       "      <th>b<\/th>\n",
       "      <th>c<\/th>\n",
       "      <th>d<\/th>\n",
       "      <th>message<\/th>\n",
       "    <\/tr>\n",
       "  <\/thead>\n",
       "  <tbody>\n",
       "    <tr>\n",
       "      <th>0<\/th>\n",
       "      <td>one<\/td>\n",
       "      <td>1<\/td>\n",
       "      <td>2<\/td>\n",
       "      <td>3.0<\/td>\n",
       "      <td>4<\/td>\n",
       "      <td>NaN<\/td>\n",
       "    <\/tr>\n",
       "    <tr>\n",
       "      <th>1<\/th>\n",
       "      <td>two<\/td>\n",
       "      <td>5<\/td>\n",
       "      <td>6<\/td>\n",
       "      <td>NaN<\/td>\n",
       "      <td>8<\/td>\n",
       "      <td>world<\/td>\n",
       "    <\/tr>\n",
       "    <tr>\n",
       "      <th>2<\/th>\n",
       "      <td>three<\/td>\n",
       "      <td>9<\/td>\n",
       "      <td>10<\/td>\n",
       "      <td>11.0<\/td>\n",
       "      <td>12<\/td>\n",
       "      <td>foo<\/td>\n",
       "    <\/tr>\n",
       "  <\/tbody>\n",
       "<\/table>\n",
       "<\/div>"
      ]
     },
     "metadata":{
      
     },
     "output_type":"display_data"
    }
   ],
   "metadata":{
    "datalore":{
     "node_id":"Vaa56dRaFr3ZefMogjaCRF",
     "type":"CODE",
     "hide_input_from_viewers":true,
     "hide_output_from_viewers":true
    }
   }
  },
  {
   "cell_type":"code",
   "source":[
    "result = pd.read_csv('przyklady\/ex5.csv',na_values=['NULL',])\n",
    "result"
   ],
   "execution_count":26,
   "outputs":[
    {
     "data":{
      "text\/html":[
       "<div>\n",
       "<style scoped>\n",
       "    .dataframe tbody tr th:only-of-type {\n",
       "        vertical-align: middle;\n",
       "    }\n",
       "\n",
       "    .dataframe tbody tr th {\n",
       "        vertical-align: top;\n",
       "    }\n",
       "\n",
       "    .dataframe thead th {\n",
       "        text-align: right;\n",
       "    }\n",
       "<\/style>\n",
       "<table border=\"1\" class=\"dataframe\">\n",
       "  <thead>\n",
       "    <tr style=\"text-align: right;\">\n",
       "      <th><\/th>\n",
       "      <th>something<\/th>\n",
       "      <th>a<\/th>\n",
       "      <th>b<\/th>\n",
       "      <th>c<\/th>\n",
       "      <th>d<\/th>\n",
       "      <th>message<\/th>\n",
       "    <\/tr>\n",
       "  <\/thead>\n",
       "  <tbody>\n",
       "    <tr>\n",
       "      <th>0<\/th>\n",
       "      <td>one<\/td>\n",
       "      <td>1<\/td>\n",
       "      <td>2<\/td>\n",
       "      <td>3.0<\/td>\n",
       "      <td>4<\/td>\n",
       "      <td>NaN<\/td>\n",
       "    <\/tr>\n",
       "    <tr>\n",
       "      <th>1<\/th>\n",
       "      <td>two<\/td>\n",
       "      <td>5<\/td>\n",
       "      <td>6<\/td>\n",
       "      <td>NaN<\/td>\n",
       "      <td>8<\/td>\n",
       "      <td>world<\/td>\n",
       "    <\/tr>\n",
       "    <tr>\n",
       "      <th>2<\/th>\n",
       "      <td>three<\/td>\n",
       "      <td>9<\/td>\n",
       "      <td>10<\/td>\n",
       "      <td>11.0<\/td>\n",
       "      <td>12<\/td>\n",
       "      <td>foo<\/td>\n",
       "    <\/tr>\n",
       "  <\/tbody>\n",
       "<\/table>\n",
       "<\/div>"
      ]
     },
     "metadata":{
      
     },
     "output_type":"display_data"
    }
   ],
   "metadata":{
    "datalore":{
     "node_id":"rximjJrpZx73LKuHRbj43s",
     "type":"CODE",
     "hide_input_from_viewers":true,
     "hide_output_from_viewers":true
    }
   }
  },
  {
   "cell_type":"code",
   "source":[
    "sentinels = {'message':['foo','NA'],'something':['two']}\n",
    "pd.read_csv('przyklady\/ex5.csv',na_values=sentinels)"
   ],
   "execution_count":27,
   "outputs":[
    {
     "data":{
      "text\/html":[
       "<div>\n",
       "<style scoped>\n",
       "    .dataframe tbody tr th:only-of-type {\n",
       "        vertical-align: middle;\n",
       "    }\n",
       "\n",
       "    .dataframe tbody tr th {\n",
       "        vertical-align: top;\n",
       "    }\n",
       "\n",
       "    .dataframe thead th {\n",
       "        text-align: right;\n",
       "    }\n",
       "<\/style>\n",
       "<table border=\"1\" class=\"dataframe\">\n",
       "  <thead>\n",
       "    <tr style=\"text-align: right;\">\n",
       "      <th><\/th>\n",
       "      <th>something<\/th>\n",
       "      <th>a<\/th>\n",
       "      <th>b<\/th>\n",
       "      <th>c<\/th>\n",
       "      <th>d<\/th>\n",
       "      <th>message<\/th>\n",
       "    <\/tr>\n",
       "  <\/thead>\n",
       "  <tbody>\n",
       "    <tr>\n",
       "      <th>0<\/th>\n",
       "      <td>one<\/td>\n",
       "      <td>1<\/td>\n",
       "      <td>2<\/td>\n",
       "      <td>3.0<\/td>\n",
       "      <td>4<\/td>\n",
       "      <td>NaN<\/td>\n",
       "    <\/tr>\n",
       "    <tr>\n",
       "      <th>1<\/th>\n",
       "      <td>NaN<\/td>\n",
       "      <td>5<\/td>\n",
       "      <td>6<\/td>\n",
       "      <td>NaN<\/td>\n",
       "      <td>8<\/td>\n",
       "      <td>world<\/td>\n",
       "    <\/tr>\n",
       "    <tr>\n",
       "      <th>2<\/th>\n",
       "      <td>three<\/td>\n",
       "      <td>9<\/td>\n",
       "      <td>10<\/td>\n",
       "      <td>11.0<\/td>\n",
       "      <td>12<\/td>\n",
       "      <td>NaN<\/td>\n",
       "    <\/tr>\n",
       "  <\/tbody>\n",
       "<\/table>\n",
       "<\/div>"
      ]
     },
     "metadata":{
      
     },
     "output_type":"display_data"
    }
   ],
   "metadata":{
    "datalore":{
     "node_id":"7IUsfMLIkpMoN1lmrZpyt7",
     "type":"CODE",
     "hide_input_from_viewers":true,
     "hide_output_from_viewers":true
    }
   }
  },
  {
   "cell_type":"code",
   "source":[
    "#wczytywanie części pliku tekstowego\n",
    "pd.options.display.max_rows = 10"
   ],
   "execution_count":28,
   "outputs":[
    
   ],
   "metadata":{
    "datalore":{
     "node_id":"KEe3I3Snf21gUMGdIAItIv",
     "type":"CODE",
     "hide_input_from_viewers":true,
     "hide_output_from_viewers":true
    }
   }
  },
  {
   "cell_type":"code",
   "source":[
    "result = pd.read_csv('przyklady\/ex6.csv')\n",
    "result"
   ],
   "execution_count":29,
   "outputs":[
    {
     "data":{
      "text\/html":[
       "<div>\n",
       "<style scoped>\n",
       "    .dataframe tbody tr th:only-of-type {\n",
       "        vertical-align: middle;\n",
       "    }\n",
       "\n",
       "    .dataframe tbody tr th {\n",
       "        vertical-align: top;\n",
       "    }\n",
       "\n",
       "    .dataframe thead th {\n",
       "        text-align: right;\n",
       "    }\n",
       "<\/style>\n",
       "<table border=\"1\" class=\"dataframe\">\n",
       "  <thead>\n",
       "    <tr style=\"text-align: right;\">\n",
       "      <th><\/th>\n",
       "      <th>one<\/th>\n",
       "      <th>two<\/th>\n",
       "      <th>three<\/th>\n",
       "      <th>four<\/th>\n",
       "      <th>key<\/th>\n",
       "    <\/tr>\n",
       "  <\/thead>\n",
       "  <tbody>\n",
       "    <tr>\n",
       "      <th>0<\/th>\n",
       "      <td>0.467976<\/td>\n",
       "      <td>-0.038649<\/td>\n",
       "      <td>-0.295344<\/td>\n",
       "      <td>-1.824726<\/td>\n",
       "      <td>L<\/td>\n",
       "    <\/tr>\n",
       "    <tr>\n",
       "      <th>1<\/th>\n",
       "      <td>-0.358893<\/td>\n",
       "      <td>1.404453<\/td>\n",
       "      <td>0.704965<\/td>\n",
       "      <td>-0.200638<\/td>\n",
       "      <td>B<\/td>\n",
       "    <\/tr>\n",
       "    <tr>\n",
       "      <th>2<\/th>\n",
       "      <td>-0.501840<\/td>\n",
       "      <td>0.659254<\/td>\n",
       "      <td>-0.421691<\/td>\n",
       "      <td>-0.057688<\/td>\n",
       "      <td>G<\/td>\n",
       "    <\/tr>\n",
       "    <tr>\n",
       "      <th>3<\/th>\n",
       "      <td>0.204886<\/td>\n",
       "      <td>1.074134<\/td>\n",
       "      <td>1.388361<\/td>\n",
       "      <td>-0.982404<\/td>\n",
       "      <td>R<\/td>\n",
       "    <\/tr>\n",
       "    <tr>\n",
       "      <th>4<\/th>\n",
       "      <td>0.354628<\/td>\n",
       "      <td>-0.133116<\/td>\n",
       "      <td>0.283763<\/td>\n",
       "      <td>-0.837063<\/td>\n",
       "      <td>Q<\/td>\n",
       "    <\/tr>\n",
       "    <tr>\n",
       "      <th>...<\/th>\n",
       "      <td>...<\/td>\n",
       "      <td>...<\/td>\n",
       "      <td>...<\/td>\n",
       "      <td>...<\/td>\n",
       "      <td>...<\/td>\n",
       "    <\/tr>\n",
       "    <tr>\n",
       "      <th>9995<\/th>\n",
       "      <td>2.311896<\/td>\n",
       "      <td>-0.417070<\/td>\n",
       "      <td>-1.409599<\/td>\n",
       "      <td>-0.515821<\/td>\n",
       "      <td>L<\/td>\n",
       "    <\/tr>\n",
       "    <tr>\n",
       "      <th>9996<\/th>\n",
       "      <td>-0.479893<\/td>\n",
       "      <td>-0.650419<\/td>\n",
       "      <td>0.745152<\/td>\n",
       "      <td>-0.646038<\/td>\n",
       "      <td>E<\/td>\n",
       "    <\/tr>\n",
       "    <tr>\n",
       "      <th>9997<\/th>\n",
       "      <td>0.523331<\/td>\n",
       "      <td>0.787112<\/td>\n",
       "      <td>0.486066<\/td>\n",
       "      <td>1.093156<\/td>\n",
       "      <td>K<\/td>\n",
       "    <\/tr>\n",
       "    <tr>\n",
       "      <th>9998<\/th>\n",
       "      <td>-0.362559<\/td>\n",
       "      <td>0.598894<\/td>\n",
       "      <td>-1.843201<\/td>\n",
       "      <td>0.887292<\/td>\n",
       "      <td>G<\/td>\n",
       "    <\/tr>\n",
       "    <tr>\n",
       "      <th>9999<\/th>\n",
       "      <td>-0.096376<\/td>\n",
       "      <td>-1.012999<\/td>\n",
       "      <td>-0.657431<\/td>\n",
       "      <td>-0.573315<\/td>\n",
       "      <td>0<\/td>\n",
       "    <\/tr>\n",
       "  <\/tbody>\n",
       "<\/table>\n",
       "<p>10000 rows × 5 columns<\/p>\n",
       "<\/div>"
      ]
     },
     "metadata":{
      
     },
     "output_type":"display_data"
    }
   ],
   "metadata":{
    "datalore":{
     "node_id":"ucOTPAPabuOaUrS6cLeYSZ",
     "type":"CODE",
     "hide_input_from_viewers":true,
     "hide_output_from_viewers":true
    }
   }
  },
  {
   "cell_type":"code",
   "source":[
    "result = pd.read_csv('przyklady\/ex6.csv',nrows=5)\n",
    "result"
   ],
   "execution_count":30,
   "outputs":[
    {
     "data":{
      "text\/html":[
       "<div>\n",
       "<style scoped>\n",
       "    .dataframe tbody tr th:only-of-type {\n",
       "        vertical-align: middle;\n",
       "    }\n",
       "\n",
       "    .dataframe tbody tr th {\n",
       "        vertical-align: top;\n",
       "    }\n",
       "\n",
       "    .dataframe thead th {\n",
       "        text-align: right;\n",
       "    }\n",
       "<\/style>\n",
       "<table border=\"1\" class=\"dataframe\">\n",
       "  <thead>\n",
       "    <tr style=\"text-align: right;\">\n",
       "      <th><\/th>\n",
       "      <th>one<\/th>\n",
       "      <th>two<\/th>\n",
       "      <th>three<\/th>\n",
       "      <th>four<\/th>\n",
       "      <th>key<\/th>\n",
       "    <\/tr>\n",
       "  <\/thead>\n",
       "  <tbody>\n",
       "    <tr>\n",
       "      <th>0<\/th>\n",
       "      <td>0.467976<\/td>\n",
       "      <td>-0.038649<\/td>\n",
       "      <td>-0.295344<\/td>\n",
       "      <td>-1.824726<\/td>\n",
       "      <td>L<\/td>\n",
       "    <\/tr>\n",
       "    <tr>\n",
       "      <th>1<\/th>\n",
       "      <td>-0.358893<\/td>\n",
       "      <td>1.404453<\/td>\n",
       "      <td>0.704965<\/td>\n",
       "      <td>-0.200638<\/td>\n",
       "      <td>B<\/td>\n",
       "    <\/tr>\n",
       "    <tr>\n",
       "      <th>2<\/th>\n",
       "      <td>-0.501840<\/td>\n",
       "      <td>0.659254<\/td>\n",
       "      <td>-0.421691<\/td>\n",
       "      <td>-0.057688<\/td>\n",
       "      <td>G<\/td>\n",
       "    <\/tr>\n",
       "    <tr>\n",
       "      <th>3<\/th>\n",
       "      <td>0.204886<\/td>\n",
       "      <td>1.074134<\/td>\n",
       "      <td>1.388361<\/td>\n",
       "      <td>-0.982404<\/td>\n",
       "      <td>R<\/td>\n",
       "    <\/tr>\n",
       "    <tr>\n",
       "      <th>4<\/th>\n",
       "      <td>0.354628<\/td>\n",
       "      <td>-0.133116<\/td>\n",
       "      <td>0.283763<\/td>\n",
       "      <td>-0.837063<\/td>\n",
       "      <td>Q<\/td>\n",
       "    <\/tr>\n",
       "  <\/tbody>\n",
       "<\/table>\n",
       "<\/div>"
      ]
     },
     "metadata":{
      
     },
     "output_type":"display_data"
    }
   ],
   "metadata":{
    "datalore":{
     "node_id":"u8d8ORNCMaQ2HDCdTzUiMH",
     "type":"CODE",
     "hide_input_from_viewers":true,
     "hide_output_from_viewers":true
    }
   }
  },
  {
   "cell_type":"code",
   "source":[
    "chunker = pd.read_csv('przyklady\/ex6.csv',chunksize=1000)\n",
    "\n",
    "tot = pd.Series([])\n",
    "for piece in chunker:\n",
    "    tot = tot.add(piece['key'].value_counts(),fill_value=0)\n",
    "tot = tot.sort_values(ascending=False)"
   ],
   "execution_count":32,
   "outputs":[
    {
     "name":"stderr",
     "text":[
      "<ipython-input-32-7c4677c5cc3a>:3: FutureWarning: The default dtype for empty Series will be 'object' instead of 'float64' in a future version. Specify a dtype explicitly to silence this warning.\n",
      "  tot = pd.Series([])\n"
     ],
     "output_type":"stream"
    }
   ],
   "metadata":{
    "datalore":{
     "node_id":"vDo9tsNoTIdQ5MMyaEAvX3",
     "type":"CODE",
     "hide_input_from_viewers":true,
     "hide_output_from_viewers":true
    }
   }
  },
  {
   "cell_type":"code",
   "source":[
    "tot[:12]"
   ],
   "execution_count":35,
   "outputs":[
    {
     "data":{
      "text\/html":[
       "<pre>E    368.0\n",
       "X    364.0\n",
       "L    346.0\n",
       "O    343.0\n",
       "Q    340.0\n",
       "     ...  \n",
       "F    335.0\n",
       "K    334.0\n",
       "H    330.0\n",
       "V    328.0\n",
       "I    327.0\n",
       "Length: 12, dtype: float64<\/pre>"
      ]
     },
     "metadata":{
      
     },
     "output_type":"display_data"
    }
   ],
   "metadata":{
    "datalore":{
     "node_id":"WnMMzcTCOsEtPrSGNQ91Pb",
     "type":"CODE",
     "hide_input_from_viewers":true,
     "hide_output_from_viewers":true
    }
   }
  },
  {
   "cell_type":"markdown",
   "source":[
    "zapis danych"
   ],
   "attachments":{
    
   },
   "metadata":{
    "datalore":{
     "node_id":"pcW2AfNpTG4Iq4o4VGKQZs",
     "type":"MD",
     "hide_input_from_viewers":true,
     "hide_output_from_viewers":true
    }
   }
  },
  {
   "cell_type":"code",
   "source":[
    "data = pd.read_csv('przyklady\/ex5.csv')\n",
    "data"
   ],
   "execution_count":36,
   "outputs":[
    {
     "data":{
      "text\/html":[
       "<div>\n",
       "<style scoped>\n",
       "    .dataframe tbody tr th:only-of-type {\n",
       "        vertical-align: middle;\n",
       "    }\n",
       "\n",
       "    .dataframe tbody tr th {\n",
       "        vertical-align: top;\n",
       "    }\n",
       "\n",
       "    .dataframe thead th {\n",
       "        text-align: right;\n",
       "    }\n",
       "<\/style>\n",
       "<table border=\"1\" class=\"dataframe\">\n",
       "  <thead>\n",
       "    <tr style=\"text-align: right;\">\n",
       "      <th><\/th>\n",
       "      <th>something<\/th>\n",
       "      <th>a<\/th>\n",
       "      <th>b<\/th>\n",
       "      <th>c<\/th>\n",
       "      <th>d<\/th>\n",
       "      <th>message<\/th>\n",
       "    <\/tr>\n",
       "  <\/thead>\n",
       "  <tbody>\n",
       "    <tr>\n",
       "      <th>0<\/th>\n",
       "      <td>one<\/td>\n",
       "      <td>1<\/td>\n",
       "      <td>2<\/td>\n",
       "      <td>3.0<\/td>\n",
       "      <td>4<\/td>\n",
       "      <td>NaN<\/td>\n",
       "    <\/tr>\n",
       "    <tr>\n",
       "      <th>1<\/th>\n",
       "      <td>two<\/td>\n",
       "      <td>5<\/td>\n",
       "      <td>6<\/td>\n",
       "      <td>NaN<\/td>\n",
       "      <td>8<\/td>\n",
       "      <td>world<\/td>\n",
       "    <\/tr>\n",
       "    <tr>\n",
       "      <th>2<\/th>\n",
       "      <td>three<\/td>\n",
       "      <td>9<\/td>\n",
       "      <td>10<\/td>\n",
       "      <td>11.0<\/td>\n",
       "      <td>12<\/td>\n",
       "      <td>foo<\/td>\n",
       "    <\/tr>\n",
       "  <\/tbody>\n",
       "<\/table>\n",
       "<\/div>"
      ]
     },
     "metadata":{
      
     },
     "output_type":"display_data"
    }
   ],
   "metadata":{
    "datalore":{
     "node_id":"N7ldQQtjau9kkCBMZLsjmw",
     "type":"CODE",
     "hide_input_from_viewers":true,
     "hide_output_from_viewers":true
    }
   }
  },
  {
   "cell_type":"code",
   "source":[
    "data.to_csv('output\/output.csv')\n",
    "!cat przyklady\/output.csv"
   ],
   "execution_count":42,
   "outputs":[
    {
     "name":"stdout",
     "text":[
      ",something,a,b,c,d,message\r\n",
      "0,one,1,2,3.0,4,\r\n",
      "1,two,5,6,,8,world\r\n",
      "2,three,9,10,11.0,12,foo\r\n"
     ],
     "output_type":"stream"
    }
   ],
   "metadata":{
    "datalore":{
     "node_id":"onCQ7MpzfCAMDT1XgEKTFd",
     "type":"CODE",
     "hide_input_from_viewers":true,
     "hide_output_from_viewers":true
    }
   }
  },
  {
   "cell_type":"code",
   "source":[
    "import sys\n",
    "data.to_csv(sys.stdout,sep='|')"
   ],
   "execution_count":43,
   "outputs":[
    {
     "name":"stdout",
     "text":[
      "|something|a|b|c|d|message\n",
      "0|one|1|2|3.0|4|\n",
      "1|two|5|6||8|world\n",
      "2|three|9|10|11.0|12|foo\n"
     ],
     "output_type":"stream"
    }
   ],
   "metadata":{
    "datalore":{
     "node_id":"hfhcH75rIcNGcg71RbDAOj",
     "type":"CODE",
     "hide_input_from_viewers":true,
     "hide_output_from_viewers":true
    }
   }
  },
  {
   "cell_type":"code",
   "source":[
    "data.to_csv(sys.stdout,index=False,header=False)"
   ],
   "execution_count":44,
   "outputs":[
    {
     "name":"stdout",
     "text":[
      "one,1,2,3.0,4,\n",
      "two,5,6,,8,world\n",
      "three,9,10,11.0,12,foo\n"
     ],
     "output_type":"stream"
    }
   ],
   "metadata":{
    "datalore":{
     "node_id":"M4iiAVkg8JKqdZfwTvi0DX",
     "type":"CODE",
     "hide_input_from_viewers":true,
     "hide_output_from_viewers":true
    }
   }
  },
  {
   "cell_type":"code",
   "source":[
    "data.to_csv(sys.stdout,index=False,columns=['a','b','c'])"
   ],
   "execution_count":45,
   "outputs":[
    {
     "name":"stdout",
     "text":[
      "a,b,c\n",
      "1,2,3.0\n",
      "5,6,\n",
      "9,10,11.0\n"
     ],
     "output_type":"stream"
    }
   ],
   "metadata":{
    "datalore":{
     "node_id":"8ENX4H6Y8wGgAjla4ORors",
     "type":"CODE",
     "hide_input_from_viewers":true,
     "hide_output_from_viewers":true
    }
   }
  },
  {
   "cell_type":"code",
   "source":[
    "data.to_csv(\"output\/mdane.csv\",index=False,columns=['a','b','c'])"
   ],
   "execution_count":46,
   "outputs":[
    
   ],
   "metadata":{
    "datalore":{
     "node_id":"EaDlU8X8WV92Jabmm8tR66",
     "type":"CODE",
     "hide_input_from_viewers":true,
     "hide_output_from_viewers":true
    }
   }
  },
  {
   "cell_type":"code",
   "source":[
    "import json\n",
    "!cat przyklady\/example.json"
   ],
   "execution_count":47,
   "outputs":[
    {
     "name":"stdout",
     "text":[
      "[{\"a\": 1, \"b\": 2, \"c\": 3},\r\n",
      " {\"a\": 4, \"b\": 5, \"c\": 6},\r\n",
      " {\"a\": 7, \"b\": 8, \"c\": 9}]\r\n"
     ],
     "output_type":"stream"
    }
   ],
   "metadata":{
    "datalore":{
     "node_id":"fweFzIIDimI7E9VWa9n94e",
     "type":"CODE",
     "hide_input_from_viewers":true,
     "hide_output_from_viewers":true
    }
   }
  },
  {
   "cell_type":"code",
   "source":[
    "data = pd.read_json('przyklady\/example.json')\n",
    "data"
   ],
   "execution_count":48,
   "outputs":[
    {
     "data":{
      "text\/html":[
       "<div>\n",
       "<style scoped>\n",
       "    .dataframe tbody tr th:only-of-type {\n",
       "        vertical-align: middle;\n",
       "    }\n",
       "\n",
       "    .dataframe tbody tr th {\n",
       "        vertical-align: top;\n",
       "    }\n",
       "\n",
       "    .dataframe thead th {\n",
       "        text-align: right;\n",
       "    }\n",
       "<\/style>\n",
       "<table border=\"1\" class=\"dataframe\">\n",
       "  <thead>\n",
       "    <tr style=\"text-align: right;\">\n",
       "      <th><\/th>\n",
       "      <th>a<\/th>\n",
       "      <th>b<\/th>\n",
       "      <th>c<\/th>\n",
       "    <\/tr>\n",
       "  <\/thead>\n",
       "  <tbody>\n",
       "    <tr>\n",
       "      <th>0<\/th>\n",
       "      <td>1<\/td>\n",
       "      <td>2<\/td>\n",
       "      <td>3<\/td>\n",
       "    <\/tr>\n",
       "    <tr>\n",
       "      <th>1<\/th>\n",
       "      <td>4<\/td>\n",
       "      <td>5<\/td>\n",
       "      <td>6<\/td>\n",
       "    <\/tr>\n",
       "    <tr>\n",
       "      <th>2<\/th>\n",
       "      <td>7<\/td>\n",
       "      <td>8<\/td>\n",
       "      <td>9<\/td>\n",
       "    <\/tr>\n",
       "  <\/tbody>\n",
       "<\/table>\n",
       "<\/div>"
      ]
     },
     "metadata":{
      
     },
     "output_type":"display_data"
    }
   ],
   "metadata":{
    "datalore":{
     "node_id":"MJyA7ehWk6a6LjnNA5mWrR",
     "type":"CODE",
     "hide_input_from_viewers":true,
     "hide_output_from_viewers":true
    }
   }
  },
  {
   "cell_type":"code",
   "source":[
    "print(data.to_json())"
   ],
   "execution_count":49,
   "outputs":[
    {
     "name":"stdout",
     "text":[
      "{\"a\":{\"0\":1,\"1\":4,\"2\":7},\"b\":{\"0\":2,\"1\":5,\"2\":8},\"c\":{\"0\":3,\"1\":6,\"2\":9}}\n"
     ],
     "output_type":"stream"
    }
   ],
   "metadata":{
    "datalore":{
     "node_id":"YgxT7hKwlzDTYsw05jJEAS",
     "type":"CODE",
     "hide_input_from_viewers":true,
     "hide_output_from_viewers":true
    }
   }
  },
  {
   "cell_type":"code",
   "source":[
    "print(data.to_json(orient='records'))"
   ],
   "execution_count":50,
   "outputs":[
    {
     "name":"stdout",
     "text":[
      "[{\"a\":1,\"b\":2,\"c\":3},{\"a\":4,\"b\":5,\"c\":6},{\"a\":7,\"b\":8,\"c\":9}]\n"
     ],
     "output_type":"stream"
    }
   ],
   "metadata":{
    "datalore":{
     "node_id":"cnFDgMDtTTi9IuxEB6w1ta",
     "type":"CODE",
     "hide_input_from_viewers":true,
     "hide_output_from_viewers":true
    }
   }
  }
 ],
 "metadata":{
  "kernelspec":{
   "display_name":"Python",
   "language":"python",
   "name":"python"
  },
  "datalore":{
   "computation_mode":"JUPYTER",
   "package_manager":"pip",
   "base_environment":"default",
   "packages":[
    
   ],
   "report_row_ids":[
    
   ],
   "version":3
  }
 },
 "nbformat":4,
 "nbformat_minor":4
}